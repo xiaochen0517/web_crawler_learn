{
 "cells": [
  {
   "metadata": {},
   "cell_type": "markdown",
   "source": "# 矩阵变换",
   "id": "7dfd7fc13a3f39e7"
  },
  {
   "metadata": {},
   "cell_type": "markdown",
   "source": "## 矩阵表示法",
   "id": "a4356beaa726c9f3"
  },
  {
   "metadata": {},
   "cell_type": "markdown",
   "source": "任何一个线性变换都可以表示为一个矩阵，例如一个二维空间中的旋转变换可以表示为一个 $2 \\times 2$ 的矩阵，一个三维空间中的旋转变换可以表示为一个 $3 \\times 3$ 的矩阵。\n",
   "id": "dff1d5ac20efb000"
  },
  {
   "metadata": {},
   "cell_type": "markdown",
   "source": [
    "矩阵是由从上到下、从左到右的行和列组成的，例如三个基向量如下：\n",
    "\n",
    "$\n",
    "x =\n",
    "(1, 0, 0) =\n",
    "\\begin{bmatrix}\n",
    "1 \\\\\n",
    "0 \\\\\n",
    "0\n",
    "\\end{bmatrix}\n",
    "$\n",
    "$\n",
    "y =\n",
    "(0, 1, 0) =\n",
    "\\begin{bmatrix}\n",
    "0 \\\\\n",
    "1 \\\\\n",
    "0\n",
    "\\end{bmatrix}\n",
    "$\n",
    "$\n",
    "z =\n",
    "(0, 0, 1) =\n",
    "\\begin{bmatrix}\n",
    "0 \\\\\n",
    "0 \\\\\n",
    "1\n",
    "\\end{bmatrix}\n",
    "$\n"
   ],
   "id": "518f5496acb65c72"
  },
  {
   "metadata": {},
   "cell_type": "markdown",
   "source": [
    "将这三个基向量可以组合成一个 $3\\times3$ 的矩阵：\n",
    "\n",
    "$\n",
    "e =\n",
    "\\begin{bmatrix}\n",
    "1 & 0 & 0 \\\\\n",
    "0 & 1 & 0 \\\\\n",
    "0 & 0 & 1\n",
    "\\end{bmatrix}\n",
    "$"
   ],
   "id": "465bfea23e36aae4"
  },
  {
   "metadata": {},
   "cell_type": "markdown",
   "source": "## 旋转矩阵",
   "id": "a031de044e2faa0b"
  },
  {
   "metadata": {},
   "cell_type": "markdown",
   "source": "### 二维旋转矩阵",
   "id": "17d169e00eaeb6dd"
  },
  {
   "metadata": {},
   "cell_type": "markdown",
   "source": [
    "在二维空间中，可以通过下面的公式计算一个向量绕原点旋转 $\\theta$ 角度后的坐标：\n",
    "\n",
    "$\n",
    "\\begin{bmatrix}\n",
    "x' \\\\\n",
    "y'\n",
    "\\end{bmatrix}\n",
    "=\n",
    "\\begin{bmatrix}\n",
    "\\cos(\\theta) & -\\sin(\\theta) \\\\\n",
    "\\sin(\\theta) & \\cos(\\theta)\n",
    "\\end{bmatrix}\n",
    "\\begin{bmatrix}\n",
    "x \\\\\n",
    "y\n",
    "\\end{bmatrix}\n",
    "$"
   ],
   "id": "8a0dffc8bbf31608"
  },
  {
   "metadata": {},
   "cell_type": "markdown",
   "source": "### 三维旋转矩阵",
   "id": "dc75298064f51dfc"
  },
  {
   "metadata": {},
   "cell_type": "markdown",
   "source": [
    "通过上面的二维旋转矩阵可以得出三维空间中的旋转矩阵，可以将其拓展为三维中沿着 $z$ 轴旋转 $\\theta$ 角度的矩阵：\n",
    "\n",
    "$\n",
    "\\begin{bmatrix}\n",
    "x' \\\\\n",
    "y' \\\\\n",
    "z'\n",
    "\\end{bmatrix}\n",
    "=\n",
    "\\begin{bmatrix}\n",
    "\\cos(\\theta) & -\\sin(\\theta) & 0 \\\\\n",
    "\\sin(\\theta) & \\cos(\\theta) & 0 \\\\\n",
    "0 & 0 & 1\n",
    "\\end{bmatrix}\n",
    "\\begin{bmatrix}\n",
    "x \\\\\n",
    "y \\\\\n",
    "z\n",
    "\\end{bmatrix}\n",
    "$"
   ],
   "id": "c91a31dd7298bed0"
  },
  {
   "metadata": {},
   "cell_type": "markdown",
   "source": "#### 矩阵计算",
   "id": "70a1227c84931fa5"
  },
  {
   "metadata": {},
   "cell_type": "markdown",
   "source": [
    "当前有一个如下的矩阵：\n",
    "\n",
    "$\n",
    "A =\n",
    "\\begin{bmatrix}\n",
    "A_{11} & A_{12} & A_{13} \\\\\n",
    "A_{21} & A_{22} & A_{23} \\\\\n",
    "A_{31} & A_{32} & A_{33}\n",
    "\\end{bmatrix}\n",
    "$"
   ],
   "id": "5f829728c06f36ed"
  },
  {
   "metadata": {},
   "cell_type": "markdown",
   "source": [
    "那么可以通过下面的公式计算矩阵 $A$ 与向量 $v$ 的乘积：\n",
    "\n",
    "$\n",
    "A \\cdot v =\n",
    "\\begin{bmatrix}\n",
    "A_{11} & A_{12} & A_{13} \\\\\n",
    "A_{21} & A_{22} & A_{23} \\\\\n",
    "A_{31} & A_{32} & A_{33}\n",
    "\\end{bmatrix}\n",
    "\\begin{bmatrix}\n",
    "v_{1} \\\\\n",
    "v_{2} \\\\\n",
    "v_{3}\n",
    "\\end{bmatrix}\n",
    "=\n",
    "\\begin{bmatrix}\n",
    "A_{11}v_{1} + A_{12}v_{2} + A_{13}v_{3} \\\\\n",
    "A_{21}v_{1} + A_{22}v_{2} + A_{23}v_{3} \\\\\n",
    "A_{31}v_{1} + A_{32}v_{2} + A_{33}v_{3}\n",
    "\\end{bmatrix}\n",
    "=\n",
    "\\begin{bmatrix}\n",
    "v'_{1} \\\\\n",
    "v'_{2} \\\\\n",
    "v'_{3}\n",
    "\\end{bmatrix}\n",
    "$\n",
    "\n",
    "通过上面的公式可以得出一个矩阵与向量的乘积的计算函数如下："
   ],
   "id": "99381688f6d4b61b"
  },
  {
   "metadata": {
    "ExecuteTime": {
     "end_time": "2025-02-11T09:21:02.679134Z",
     "start_time": "2025-02-11T09:21:02.673959Z"
    }
   },
   "cell_type": "code",
   "source": [
    "def matrix_multiply(matrix, vector):\n",
    "    return tuple(\n",
    "        sum(matrix[i][j] * vector[j] for j in range(len(vector)))\n",
    "        for i in range(len(matrix))\n",
    "    )\n",
    "\n",
    "\n",
    "print(f'矩阵 A 与向量 v 的乘积为：{matrix_multiply(((0, -1, 0), (0, 1, 0), (0, 0, 1)), (1, 1, 1))}')"
   ],
   "id": "4c4d19bb35813b3b",
   "outputs": [
    {
     "name": "stdout",
     "output_type": "stream",
     "text": [
      "矩阵 A 与向量 v 的乘积为：(-1, 1, 1)\n"
     ]
    }
   ],
   "execution_count": 4
  },
  {
   "metadata": {},
   "cell_type": "markdown",
   "source": "#### 旋转矩阵的应用",
   "id": "f8398210f9a9d05b"
  },
  {
   "metadata": {},
   "cell_type": "markdown",
   "source": [
    "根据上面的公式，如何当前需要将一个三维向量 $v$ 绕 $z$ 轴旋转 $90$ 度，可以通过下面的 $3\\times3$ 的矩阵计算：\n",
    "\n"
   ],
   "id": "36fb98ff4dd25142"
  },
  {
   "metadata": {},
   "cell_type": "markdown",
   "source": [
    "$\n",
    "A =\n",
    "\\begin{bmatrix}\n",
    "\\cos(90°) & -\\sin(90°) & 0 \\\\\n",
    "\\sin(90°) & \\cos(90°) & 0 \\\\\n",
    "0 & 0 & 1\n",
    "\\end{bmatrix}\n",
    "=\n",
    "\\begin{bmatrix}\n",
    "0 & -1 & 0 \\\\\n",
    "1 & 0 & 0 \\\\\n",
    "0 & 0 & 1\n",
    "\\end{bmatrix}\n",
    "$"
   ],
   "id": "261d7d58a3c5cc9b"
  },
  {
   "metadata": {},
   "cell_type": "markdown",
   "source": "通过上面的矩阵可以得出一个向量绕 $z$ 轴旋转 $90$ 度的结果，例如将一个向量 $(1, 1, 1)$ 绕 $z$ 轴旋转 $90$ 度的结果为 $(-1, 1, 1)$。",
   "id": "7052a1d785effb36"
  },
  {
   "metadata": {},
   "cell_type": "markdown",
   "source": [
    "$\n",
    "\\begin{bmatrix}\n",
    "0 & -1 & 0 \\\\\n",
    "1 & 0 & 0 \\\\\n",
    "0 & 0 & 1\n",
    "\\end{bmatrix}\n",
    "\\begin{bmatrix}\n",
    "1 \\\\\n",
    "1 \\\\\n",
    "1\n",
    "\\end{bmatrix}\n",
    "=\n",
    "\\begin{bmatrix}\n",
    "0 \\cdot 1 + -1 \\cdot 1 + 0 \\cdot 1 \\\\\n",
    "1 \\cdot 1 + 0 \\cdot 1 + 0 \\cdot 1 \\\\\n",
    "0 \\cdot 1 + 0 \\cdot 1 + 1 \\cdot 1\n",
    "\\end{bmatrix}\n",
    "=\n",
    "\\begin{bmatrix}\n",
    "-1 \\\\\n",
    "1 \\\\\n",
    "1\n",
    "\\end{bmatrix}\n",
    "$"
   ],
   "id": "a49ce445a0884132"
  },
  {
   "metadata": {},
   "cell_type": "markdown",
   "source": "通过上面的计算，可以得出一个可以将指定向量旋转指定角度的函数如下：",
   "id": "bc8260654bc0cbdd"
  },
  {
   "metadata": {
    "ExecuteTime": {
     "end_time": "2025-02-11T09:21:05.717669Z",
     "start_time": "2025-02-11T09:21:05.712479Z"
    }
   },
   "cell_type": "code",
   "source": [
    "import math\n",
    "\n",
    "\n",
    "def rotate_z(theta, vector):\n",
    "    matrix = (\n",
    "        (math.cos(theta), -math.sin(theta), 0),\n",
    "        (math.sin(theta), math.cos(theta), 0),\n",
    "        (0, 0, 1)\n",
    "    )\n",
    "    return matrix_multiply(matrix, vector)\n",
    "\n",
    "\n",
    "print(f'向量 (1, 1, 1) 绕 z 轴旋转 90° 的结果为：{rotate_z(math.pi / 2, (1, 1, 1))}')"
   ],
   "id": "8e3645a5e766f6e0",
   "outputs": [
    {
     "name": "stdout",
     "output_type": "stream",
     "text": [
      "向量 (1, 1, 1) 绕 z 轴旋转 90° 的结果为：(-0.9999999999999999, 1.0, 1)\n"
     ]
    }
   ],
   "execution_count": 5
  },
  {
   "cell_type": "code",
   "id": "initial_id",
   "metadata": {
    "collapsed": true,
    "ExecuteTime": {
     "end_time": "2025-02-11T09:24:50.517035Z",
     "start_time": "2025-02-11T09:24:50.413505Z"
    }
   },
   "source": [
    "from py_lib.draw3d import draw3d, Arrow3D, Box3D\n",
    "\n",
    "draw3d(\n",
    "    Arrow3D((1, 1, 1), (0, 0, 0), color='blue'),\n",
    "    Box3D(1, 1, 1),\n",
    "    Arrow3D(rotate_z(math.pi / 2, (1, 1, 1)), (0, 0, 0), color='red'),\n",
    "    Box3D(*rotate_z(math.pi / 2, (1, 1, 1))),\n",
    ")"
   ],
   "outputs": [
    {
     "data": {
      "text/plain": [
       "<Figure size 640x480 with 1 Axes>"
      ],
      "image/png": "[encoded data removed]"
     },
     "metadata": {},
     "output_type": "display_data"
    }
   ],
   "execution_count": 8
  },
  {
   "metadata": {},
   "cell_type": "markdown",
   "source": "## 缩放矩阵",
   "id": "d749ef9b3e00a489"
  },
  {
   "metadata": {},
   "cell_type": "markdown",
   "source": [
    "缩放矩阵可以直接通过下面的公式计算：\n",
    "\n",
    "$\n",
    "S =\n",
    "\\begin{bmatrix}\n",
    "s_{x} & 0 & 0 \\\\\n",
    "0 & s_{y} & 0 \\\\\n",
    "0 & 0 & s_{z}\n",
    "\\end{bmatrix}\n",
    "$"
   ],
   "id": "e431329a7a560671"
  },
  {
   "metadata": {},
   "cell_type": "markdown",
   "source": [
    "通过上面的公式可以对向量的每一个轴实现不同比例的缩放，例如对一个向量 $(1, 1, 1)$ 分别在 $x$ 轴、$y$ 轴、$z$ 轴上缩放 $2$ 倍、$0.5$ 倍、$1$ 倍，可以通过下面的计算得出结果：\n",
    "\n",
    "$\n",
    "\\begin{bmatrix}\n",
    "2 & 0 & 0 \\\\\n",
    "0 & 0.5 & 0 \\\\\n",
    "0 & 0 & 1\n",
    "\\end{bmatrix}\n",
    "\\begin{bmatrix}\n",
    "1 \\\\\n",
    "1 \\\\\n",
    "1\n",
    "\\end{bmatrix}\n",
    "=\n",
    "\\begin{bmatrix}\n",
    "2 \\cdot 1 + 0 \\cdot 1 + 0 \\cdot 1 \\\\\n",
    "0 \\cdot 1 + 0.5 \\cdot 1 + 0 \\cdot 1 \\\\\n",
    "0 \\cdot 1 + 0 \\cdot 1 + 1 \\cdot 1\n",
    "\\end{bmatrix}\n",
    "=\n",
    "\\begin{bmatrix}\n",
    "2 \\\\\n",
    "0.5 \\\\\n",
    "1\n",
    "\\end{bmatrix}\n",
    "$"
   ],
   "id": "f3c5b0d82baacb32"
  },
  {
   "metadata": {},
   "cell_type": "markdown",
   "source": "通过公式可以得出一个可以对指定向量进行缩放的函数如下：",
   "id": "d21e27d2a31f3697"
  },
  {
   "metadata": {
    "ExecuteTime": {
     "end_time": "2025-02-11T09:31:02.986040Z",
     "start_time": "2025-02-11T09:31:02.980620Z"
    }
   },
   "cell_type": "code",
   "source": [
    "def scale(s, vector):\n",
    "    matrix = (\n",
    "        (s[0], 0, 0),\n",
    "        (0, s[1], 0),\n",
    "        (0, 0, s[2])\n",
    "    )\n",
    "    return matrix_multiply(matrix, vector)\n",
    "\n",
    "\n",
    "print(f'向量 (1, 1, 1) 在 x 轴、y 轴、z 轴上分别缩放 2、0.5、1 倍的结果为：{scale((2, 0.5, 1), (1, 1, 1))}')"
   ],
   "id": "1ae08f63ed2242b8",
   "outputs": [
    {
     "name": "stdout",
     "output_type": "stream",
     "text": [
      "向量 (1, 1, 1) 在 x 轴、y 轴、z 轴上分别缩放 2、0.5、1 倍的结果为：(2, 0.5, 1)\n"
     ]
    }
   ],
   "execution_count": 9
  },
  {
   "metadata": {},
   "cell_type": "markdown",
   "source": "## 矩阵乘法",
   "id": "abc000c52f328337"
  },
  {
   "metadata": {},
   "cell_type": "markdown",
   "source": [
    "正常实践中，向量的变换通常会有多个变换组合而成，例如绕 $z$ 轴旋转 $10$ 度、绕 $x$ 轴旋转 $20$ 度、在 $x$ 轴上缩放 $2$ 倍，可以通过下面的公式计算：\n",
    "\n",
    "$\n",
    "\\begin{bmatrix}\n",
    "2 & 0 & 0 \\\\\n",
    "0 & 1 & 0 \\\\\n",
    "0 & 0 & 1\n",
    "\\end{bmatrix}\n",
    "\\begin{bmatrix}\n",
    "1 & 0 & 0 \\\\\n",
    "0 & \\cos(20°) & -\\sin(20°) \\\\\n",
    "0 & \\sin(20°) & \\cos(20°)\n",
    "\\end{bmatrix}\n",
    "\\begin{bmatrix}\n",
    "\\cos(10°) & -\\sin(10°) & 0 \\\\\n",
    "\\sin(10°) & \\cos(10°) & 0 \\\\\n",
    "0 & 0 & 1\n",
    "\\end{bmatrix}\n",
    "\\begin{bmatrix}\n",
    "1 \\\\\n",
    "1 \\\\\n",
    "1\n",
    "\\end{bmatrix}\n",
    "$"
   ],
   "id": "7a37c920c0f7dd31"
  },
  {
   "metadata": {},
   "cell_type": "markdown",
   "source": [
    "上面的公式从右到左一次进行旋转和缩放操作，同时由于旋转和缩放是线性变换，所以从左到右也可以得到相同的结果。\n",
    "\n",
    "在上面的公式中，可以通过下面的公式实现多多个 $3\\times3$ 的矩阵的合并，从而使得已有的向量只通过一个矩阵变换即可得到最终结果：\n",
    "\n",
    "$\n",
    "A \\cdot B =\n",
    "\\begin{bmatrix}\n",
    "A_{11} & A_{12} & A_{13} \\\\\n",
    "A_{21} & A_{22} & A_{23} \\\\\n",
    "A_{31} & A_{32} & A_{33}\n",
    "\\end{bmatrix}\n",
    "\\begin{bmatrix}\n",
    "B_{11} & B_{12} & B_{13} \\\\\n",
    "B_{21} & B_{22} & B_{23} \\\\\n",
    "B_{31} & B_{32} & B_{33}\n",
    "\\end{bmatrix}\n",
    "=\n",
    "\\begin{bmatrix}\n",
    "(A_{11}, A_{12}, A_{13}) \\cdot (B_{11}, B_{21}, B_{31}) & (A_{11}, A_{12}, A_{13}) \\cdot (B_{12}, B_{22}, B_{32}) & (A_{11}, A_{12}, A_{13}) \\cdot (B_{13}, B_{23}, B_{33}) \\\\\n",
    "(A_{21}, A_{22}, A_{23}) \\cdot (B_{11}, B_{21}, B_{31}) & (A_{21}, A_{22}, A_{23}) \\cdot (B_{12}, B_{22}, B_{32}) & (A_{21}, A_{22}, A_{23}) \\cdot (B_{13}, B_{23}, B_{33}) \\\\\n",
    "(A_{31}, A_{32}, A_{33}) \\cdot (B_{11}, B_{21}, B_{31}) & (A_{31}, A_{32}, A_{33}) \\cdot (B_{12}, B_{22}, B_{32}) & (A_{31}, A_{32}, A_{33}) \\cdot (B_{13}, B_{23}, B_{33})\n",
    "\\end{bmatrix}\n",
    "=\n",
    "\\begin{bmatrix}\n",
    "A_{11}B_{11} + A_{12}B_{21} + A_{13}B_{31} & A_{11}B_{12} + A_{12}B_{22} + A_{13}B_{32} & A_{11}B_{13} + A_{12}B_{23} + A_{13}B_{33} \\\\\n",
    "A_{21}B_{11} + A_{22}B_{21} + A_{23}B_{31} & A_{21}B_{12} + A_{22}B_{22} + A_{23}B_{32} & A_{21}B_{13} + A_{22}B_{23} + A_{23}B_{33} \\\\\n",
    "A_{31}B_{11} + A_{32}B_{21} + A_{33}B_{31} & A_{31}B_{12} + A_{32}B_{22} + A_{33}B_{32} & A_{31}B_{13} + A_{32}B_{23} + A_{33}B_{33}\n",
    "\\end{bmatrix}\n",
    "$"
   ],
   "id": "65925a6eb7fd9678"
  },
  {
   "metadata": {},
   "cell_type": "markdown",
   "source": "通过上面的公式可以得出一个可以对指定向量进行多个变换的函数如下：",
   "id": "fdd2cbf16632bf4b"
  },
  {
   "metadata": {
    "ExecuteTime": {
     "end_time": "2025-02-11T10:05:45.483913Z",
     "start_time": "2025-02-11T10:05:45.473830Z"
    }
   },
   "cell_type": "code",
   "source": [
    "def multiply_matrices(*matrices):\n",
    "    \"\"\"合并多个3x3变换矩阵（按参数顺序左乘：返回 M1 × M2 × ... × Mn）\"\"\"\n",
    "\n",
    "    def multiply(a, b):\n",
    "        \"\"\"两个3x3矩阵相乘\"\"\"\n",
    "        return (\n",
    "            (\n",
    "                a[0][0] * b[0][0] + a[0][1] * b[1][0] + a[0][2] * b[2][0],\n",
    "                a[0][0] * b[0][1] + a[0][1] * b[1][1] + a[0][2] * b[2][1],\n",
    "                a[0][0] * b[0][2] + a[0][1] * b[1][2] + a[0][2] * b[2][2]\n",
    "            ),\n",
    "            (\n",
    "                a[1][0] * b[0][0] + a[1][1] * b[1][0] + a[1][2] * b[2][0],\n",
    "                a[1][0] * b[0][1] + a[1][1] * b[1][1] + a[1][2] * b[2][1],\n",
    "                a[1][0] * b[0][2] + a[1][1] * b[1][2] + a[1][2] * b[2][2]\n",
    "            ),\n",
    "            (\n",
    "                a[2][0] * b[0][0] + a[2][1] * b[1][0] + a[2][2] * b[2][0],\n",
    "                a[2][0] * b[0][1] + a[2][1] * b[1][1] + a[2][2] * b[2][1],\n",
    "                a[2][0] * b[0][2] + a[2][1] * b[1][2] + a[2][2] * b[2][2]\n",
    "            )\n",
    "        )\n",
    "\n",
    "    # 空参数时返回单位矩阵\n",
    "    if not matrices:\n",
    "        return (\n",
    "            (1, 0, 0),\n",
    "            (0, 1, 0),\n",
    "            (0, 0, 1)\n",
    "        )\n",
    "\n",
    "    # 依次相乘所有矩阵\n",
    "    result = matrices[0]\n",
    "    for matrix in matrices[1:]:\n",
    "        result = multiply(result, matrix)\n",
    "    return result\n",
    "\n",
    "\n",
    "print(f'绕 z 轴旋转 10° 加绕 x 轴旋转 20° 加在 x 轴上缩放 2 倍的结果为：{\n",
    "multiply_matrices(\n",
    "    ((2, 0, 0), (0, 1, 0), (0, 0, 1)),\n",
    "    ((1, 0, 0), (0, math.cos(math.pi / 9), -math.sin(math.pi / 9)), (0, math.sin(math.pi / 9), math.cos(math.pi / 9))),\n",
    "    ((math.cos(math.pi / 18), -math.sin(math.pi / 18), 0), (math.sin(math.pi / 18), math.cos(math.pi / 18), 0), (0, 0, 1)),\n",
    ")\n",
    "}')"
   ],
   "id": "38f12a0571975c6",
   "outputs": [
    {
     "name": "stdout",
     "output_type": "stream",
     "text": [
      "绕 z 轴旋转 10° 加绕 x 轴旋转 20° 加在 x 轴上缩放 2 倍的结果为：((1.969615506024416, -0.34729635533386066, 0.0), (0.16317591116653482, 0.9254165783983234, -0.3420201433256687), (0.0593911746138847, 0.33682408883346515, 0.9396926207859084))\n"
     ]
    }
   ],
   "execution_count": 11
  }
 ],
 "metadata": {
  "kernelspec": {
   "display_name": "Python 3",
   "language": "python",
   "name": "python3"
  },
  "language_info": {
   "codemirror_mode": {
    "name": "ipython",
    "version": 2
   },
   "file_extension": ".py",
   "mimetype": "text/x-python",
   "name": "python",
   "nbconvert_exporter": "python",
   "pygments_lexer": "ipython2",
   "version": "2.7.6"
  }
 },
 "nbformat": 4,
 "nbformat_minor": 5
}
